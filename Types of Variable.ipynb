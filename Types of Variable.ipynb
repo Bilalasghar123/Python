{
 "cells": [
  {
   "cell_type": "markdown",
   "metadata": {
    "collapsed": false
   },
   "source": [
    "# Types of Variable"
   ]
  },
  {
   "cell_type": "code",
   "execution_count": 1,
   "metadata": {
    "collapsed": false
   },
   "outputs": [
    {
     "name": "stdout",
     "output_type": "stream",
     "text": [
      "2\n",
      "9223372036854775807\n",
      "3.14\n",
      "A\n",
      "John Doe\n",
      "True\n",
      "None\n"
     ]
    }
   ],
   "source": [
    "# Integer\n",
    "a = 2\n",
    "print(a)\n",
    "# Output: 2\n",
    "# Integer \n",
    "b = 9223372036854775807\n",
    "print(b)\n",
    "# Output: 9223372036854775807\n",
    "# Floating point\n",
    "pi = 3.14\n",
    "print(pi)\n",
    "# Output: 3.14\n",
    "# String\n",
    "c = 'A'\n",
    "print(c)\n",
    "# Output: A\n",
    "# String \n",
    "name = 'John Doe'\n",
    "print(name)\n",
    "# Output: John Doe\n",
    "# Boolean \n",
    "q = True\n",
    "print(q)\n",
    "# Output: True\n",
    "# Empty value or null data type\n",
    "x = None\n",
    "print(x)\n",
    "# Output: None"
   ]
  }
 ],
 "metadata": {
  "kernelspec": {
   "display_name": "Python 3 (system-wide)",
   "language": "python",
   "metadata": {
    "cocalc": {
     "description": "Python 3 programming language",
     "priority": 100,
     "url": "https://www.python.org/"
    }
   },
   "name": "python3",
   "resource_dir": "/ext/jupyter/kernels/python3"
  },
  "language_info": {
   "codemirror_mode": {
    "name": "ipython",
    "version": 3
   },
   "file_extension": ".py",
   "mimetype": "text/x-python",
   "name": "python",
   "nbconvert_exporter": "python",
   "pygments_lexer": "ipython3",
   "version": "3.8.10"
  }
 },
 "nbformat": 4,
 "nbformat_minor": 4
}